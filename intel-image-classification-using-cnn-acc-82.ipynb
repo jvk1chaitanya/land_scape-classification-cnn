{
 "cells": [
  {
   "cell_type": "code",
   "execution_count": 1,
   "id": "2d6c9fa9",
   "metadata": {
    "execution": {
     "iopub.execute_input": "2022-07-25T07:22:07.994845Z",
     "iopub.status.busy": "2022-07-25T07:22:07.993306Z",
     "iopub.status.idle": "2022-07-25T07:22:21.203105Z",
     "shell.execute_reply": "2022-07-25T07:22:21.201835Z"
    },
    "papermill": {
     "duration": 13.219536,
     "end_time": "2022-07-25T07:22:21.206116",
     "exception": false,
     "start_time": "2022-07-25T07:22:07.986580",
     "status": "completed"
    },
    "tags": []
   },
   "outputs": [
    {
     "name": "stdout",
     "output_type": "stream",
     "text": [
      "Found 14034 files belonging to 6 classes.\n",
      "Using 11228 files for training.\n"
     ]
    },
    {
     "name": "stderr",
     "output_type": "stream",
     "text": [
      "2022-07-25 07:22:21.074990: I tensorflow/core/common_runtime/process_util.cc:146] Creating new thread pool with default inter op setting: 2. Tune using inter_op_parallelism_threads for best performance.\n"
     ]
    }
   ],
   "source": [
    "# load train data\n",
    "import tensorflow as tf\n",
    "train_path = '/kaggle/input/intel-image-classification/seg_train/seg_train/'\n",
    "test_path = '/kaggle/input/intel-image-classification/seg_test/seg_test/'\n",
    "train_data = tf.keras.utils.image_dataset_from_directory(\n",
    "  train_path,\n",
    "  validation_split=0.2,\n",
    "  subset=\"training\",\n",
    "  seed=123,\n",
    "  image_size=(150, 150),\n",
    "  batch_size=32,\n",
    "label_mode='categorical')"
   ]
  },
  {
   "cell_type": "code",
   "execution_count": 2,
   "id": "0b4ca2cf",
   "metadata": {
    "execution": {
     "iopub.execute_input": "2022-07-25T07:22:21.217468Z",
     "iopub.status.busy": "2022-07-25T07:22:21.217023Z",
     "iopub.status.idle": "2022-07-25T07:22:24.770362Z",
     "shell.execute_reply": "2022-07-25T07:22:24.769450Z"
    },
    "papermill": {
     "duration": 3.562081,
     "end_time": "2022-07-25T07:22:24.773134",
     "exception": false,
     "start_time": "2022-07-25T07:22:21.211053",
     "status": "completed"
    },
    "tags": []
   },
   "outputs": [
    {
     "name": "stdout",
     "output_type": "stream",
     "text": [
      "Found 14034 files belonging to 6 classes.\n",
      "Using 2806 files for validation.\n"
     ]
    }
   ],
   "source": [
    "# load validation data\n",
    "val_data = tf.keras.utils.image_dataset_from_directory(\n",
    "  train_path,\n",
    "  validation_split=0.2,\n",
    "  subset=\"validation\",\n",
    "  seed=123,\n",
    "  image_size=(150, 150),\n",
    "  batch_size=32,\n",
    "label_mode='categorical')"
   ]
  },
  {
   "cell_type": "code",
   "execution_count": 3,
   "id": "708cd16f",
   "metadata": {
    "execution": {
     "iopub.execute_input": "2022-07-25T07:22:24.789689Z",
     "iopub.status.busy": "2022-07-25T07:22:24.788950Z",
     "iopub.status.idle": "2022-07-25T07:22:25.142157Z",
     "shell.execute_reply": "2022-07-25T07:22:25.139690Z"
    },
    "papermill": {
     "duration": 0.365182,
     "end_time": "2022-07-25T07:22:25.145570",
     "exception": false,
     "start_time": "2022-07-25T07:22:24.780388",
     "status": "completed"
    },
    "tags": []
   },
   "outputs": [
    {
     "name": "stdout",
     "output_type": "stream",
     "text": [
      "Found 3000 files belonging to 6 classes.\n"
     ]
    }
   ],
   "source": [
    "# load test data\n",
    "test_data = test_ds = tf.keras.utils.image_dataset_from_directory(\n",
    "  test_path,\n",
    "  seed=123,\n",
    "  image_size=(150, 150),\n",
    "  batch_size=32,\n",
    "label_mode='categorical')"
   ]
  },
  {
   "cell_type": "code",
   "execution_count": 4,
   "id": "309e05db",
   "metadata": {
    "execution": {
     "iopub.execute_input": "2022-07-25T07:22:25.157152Z",
     "iopub.status.busy": "2022-07-25T07:22:25.156751Z",
     "iopub.status.idle": "2022-07-25T07:22:25.185082Z",
     "shell.execute_reply": "2022-07-25T07:22:25.183871Z"
    },
    "papermill": {
     "duration": 0.038087,
     "end_time": "2022-07-25T07:22:25.188466",
     "exception": false,
     "start_time": "2022-07-25T07:22:25.150379",
     "status": "completed"
    },
    "tags": []
   },
   "outputs": [],
   "source": [
    "from keras.models import Sequential\n",
    "from keras.layers import Dense, Conv2D, Flatten, BatchNormalization, Dropout, MaxPool2D\n",
    "model = Sequential()"
   ]
  },
  {
   "cell_type": "code",
   "execution_count": 5,
   "id": "bc38350f",
   "metadata": {
    "execution": {
     "iopub.execute_input": "2022-07-25T07:22:25.205099Z",
     "iopub.status.busy": "2022-07-25T07:22:25.204540Z",
     "iopub.status.idle": "2022-07-25T07:22:25.507250Z",
     "shell.execute_reply": "2022-07-25T07:22:25.506028Z"
    },
    "papermill": {
     "duration": 0.314583,
     "end_time": "2022-07-25T07:22:25.510449",
     "exception": false,
     "start_time": "2022-07-25T07:22:25.195866",
     "status": "completed"
    },
    "tags": []
   },
   "outputs": [
    {
     "name": "stdout",
     "output_type": "stream",
     "text": [
      "Model: \"sequential\"\n",
      "_________________________________________________________________\n",
      "Layer (type)                 Output Shape              Param #   \n",
      "=================================================================\n",
      "conv_1 (Conv2D)              (None, 150, 150, 16)      1216      \n",
      "_________________________________________________________________\n",
      "max_pooling2d (MaxPooling2D) (None, 50, 50, 16)        0         \n",
      "_________________________________________________________________\n",
      "batch_normalization (BatchNo (None, 50, 50, 16)        64        \n",
      "_________________________________________________________________\n",
      "conv_2 (Conv2D)              (None, 50, 50, 32)        12832     \n",
      "_________________________________________________________________\n",
      "max_pooling2d_1 (MaxPooling2 (None, 16, 16, 32)        0         \n",
      "_________________________________________________________________\n",
      "batch_normalization_1 (Batch (None, 16, 16, 32)        128       \n",
      "_________________________________________________________________\n",
      "conv_3 (Conv2D)              (None, 16, 16, 64)        51264     \n",
      "_________________________________________________________________\n",
      "max_pooling2d_2 (MaxPooling2 (None, 5, 5, 64)          0         \n",
      "_________________________________________________________________\n",
      "flatten (Flatten)            (None, 1600)              0         \n",
      "_________________________________________________________________\n",
      "dense_1 (Dense)              (None, 128)               204928    \n",
      "_________________________________________________________________\n",
      "dropout (Dropout)            (None, 128)               0         \n",
      "_________________________________________________________________\n",
      "dense_2 (Dense)              (None, 6)                 774       \n",
      "=================================================================\n",
      "Total params: 271,206\n",
      "Trainable params: 271,110\n",
      "Non-trainable params: 96\n",
      "_________________________________________________________________\n"
     ]
    }
   ],
   "source": [
    "# create model\n",
    "model.add(Conv2D(16, kernel_size=5, activation='relu', input_shape=(150,150,3), padding='same', name='conv_1'))\n",
    "model.add(MaxPool2D(pool_size=3))\n",
    "model.add(BatchNormalization())\n",
    "model.add(Conv2D(32, kernel_size=5, activation='relu', padding='same', name='conv_2'))\n",
    "model.add(MaxPool2D(pool_size=3))\n",
    "model.add(BatchNormalization())\n",
    "model.add(Conv2D(64, kernel_size=5, activation='relu', padding='same', name='conv_3'))\n",
    "model.add(MaxPool2D(pool_size=3))\n",
    "model.add(Flatten())\n",
    "model.add(Dense(128,activation='relu', name='dense_1'))\n",
    "model.add(Dropout(0.25))\n",
    "model.add(Dense(6,activation='softmax', name='dense_2'))\n",
    "model.compile(optimizer='adam',loss = 'categorical_crossentropy',metrics=['accuracy'])\n",
    "model.summary()"
   ]
  },
  {
   "cell_type": "code",
   "execution_count": 6,
   "id": "135b2a22",
   "metadata": {
    "execution": {
     "iopub.execute_input": "2022-07-25T07:22:25.522102Z",
     "iopub.status.busy": "2022-07-25T07:22:25.521486Z",
     "iopub.status.idle": "2022-07-25T07:33:34.053323Z",
     "shell.execute_reply": "2022-07-25T07:33:34.052178Z"
    },
    "papermill": {
     "duration": 668.54102,
     "end_time": "2022-07-25T07:33:34.056448",
     "exception": false,
     "start_time": "2022-07-25T07:22:25.515428",
     "status": "completed"
    },
    "tags": []
   },
   "outputs": [
    {
     "name": "stdout",
     "output_type": "stream",
     "text": [
      "Epoch 1/30\n"
     ]
    },
    {
     "name": "stderr",
     "output_type": "stream",
     "text": [
      "2022-07-25 07:22:26.085932: I tensorflow/compiler/mlir/mlir_graph_optimization_pass.cc:185] None of the MLIR Optimization Passes are enabled (registered 2)\n"
     ]
    },
    {
     "name": "stdout",
     "output_type": "stream",
     "text": [
      "351/351 [==============================] - 61s 171ms/step - loss: 1.0223 - accuracy: 0.6132 - val_loss: 0.7914 - val_accuracy: 0.6885\n",
      "Epoch 2/30\n",
      "351/351 [==============================] - 57s 161ms/step - loss: 0.7354 - accuracy: 0.7309 - val_loss: 1.2330 - val_accuracy: 0.6001\n",
      "Epoch 3/30\n",
      "351/351 [==============================] - 58s 164ms/step - loss: 0.6143 - accuracy: 0.7773 - val_loss: 0.5816 - val_accuracy: 0.7865\n",
      "Epoch 4/30\n",
      "351/351 [==============================] - 58s 165ms/step - loss: 0.5538 - accuracy: 0.8041 - val_loss: 0.4733 - val_accuracy: 0.8314\n",
      "Epoch 5/30\n",
      "351/351 [==============================] - 58s 163ms/step - loss: 0.4943 - accuracy: 0.8246 - val_loss: 0.6704 - val_accuracy: 0.7694\n",
      "Epoch 6/30\n",
      "351/351 [==============================] - 58s 164ms/step - loss: 0.4597 - accuracy: 0.8352 - val_loss: 0.5460 - val_accuracy: 0.8182\n",
      "Epoch 7/30\n",
      "351/351 [==============================] - 58s 164ms/step - loss: 0.4281 - accuracy: 0.8470 - val_loss: 1.1598 - val_accuracy: 0.6650\n",
      "Epoch 8/30\n",
      "351/351 [==============================] - 58s 163ms/step - loss: 0.3835 - accuracy: 0.8586 - val_loss: 0.8367 - val_accuracy: 0.7231\n",
      "Epoch 9/30\n",
      "351/351 [==============================] - 58s 165ms/step - loss: 0.3584 - accuracy: 0.8684 - val_loss: 1.0459 - val_accuracy: 0.6900\n"
     ]
    }
   ],
   "source": [
    "# train model\n",
    "from keras.callbacks import ModelCheckpoint, EarlyStopping\n",
    "checkpoint = ModelCheckpoint('weights.hdf5', monitor='val_loss', save_best_only=True)\n",
    "early_stop = EarlyStopping(patience=5)\n",
    "model_history = model.fit(train_data,epochs=30,validation_data=val_data,callbacks=[checkpoint,early_stop])"
   ]
  },
  {
   "cell_type": "code",
   "execution_count": 7,
   "id": "c6486fad",
   "metadata": {
    "execution": {
     "iopub.execute_input": "2022-07-25T07:33:34.510912Z",
     "iopub.status.busy": "2022-07-25T07:33:34.510223Z",
     "iopub.status.idle": "2022-07-25T07:33:34.515510Z",
     "shell.execute_reply": "2022-07-25T07:33:34.514775Z"
    },
    "papermill": {
     "duration": 0.233038,
     "end_time": "2022-07-25T07:33:34.517497",
     "exception": false,
     "start_time": "2022-07-25T07:33:34.284459",
     "status": "completed"
    },
    "tags": []
   },
   "outputs": [],
   "source": [
    "loss = model_history.history['loss']\n",
    "val_loss = model_history.history['val_loss']\n",
    "acc = model_history.history['accuracy']\n",
    "val_acc = model_history.history['val_accuracy']"
   ]
  },
  {
   "cell_type": "code",
   "execution_count": 8,
   "id": "4f04a753",
   "metadata": {
    "execution": {
     "iopub.execute_input": "2022-07-25T07:33:34.970387Z",
     "iopub.status.busy": "2022-07-25T07:33:34.969163Z",
     "iopub.status.idle": "2022-07-25T07:33:36.091383Z",
     "shell.execute_reply": "2022-07-25T07:33:36.090425Z"
    },
    "papermill": {
     "duration": 1.351818,
     "end_time": "2022-07-25T07:33:36.093832",
     "exception": false,
     "start_time": "2022-07-25T07:33:34.742014",
     "status": "completed"
    },
    "tags": []
   },
   "outputs": [
    {
     "data": {
      "image/png": "[encoded data removed]",
      "text/plain": [
       "<Figure size 1368x504 with 2 Axes>"
      ]
     },
     "metadata": {
      "needs_background": "light"
     },
     "output_type": "display_data"
    }
   ],
   "source": [
    "# plot loss and accuracy\n",
    "import matplotlib.pyplot as plt\n",
    "import seaborn as sns\n",
    "\n",
    "fig, ax = plt.subplots(nrows = 1, ncols = 2, figsize = (19,7))\n",
    "sns.set_style(\"darkgrid\")\n",
    "\n",
    "ax[0].plot(acc, '*-',label = 'Training accuracy')\n",
    "ax[0].plot(val_acc, '*-',label = 'Validation accuracy')\n",
    "ax[0].set_xlabel('Epochs')\n",
    "ax[0].set_ylabel('Accuracy')\n",
    "ax[0].set_title('Epochs & Training Accuracy', fontsize = 17)\n",
    "ax[0].legend(loc='best')\n",
    "\n",
    "\n",
    "ax[1].plot(loss, '*-',label = 'Training loss')\n",
    "ax[1].plot(val_loss, '*-',label = 'Validation loss')\n",
    "ax[1].set_xlabel('Epochs')\n",
    "ax[1].set_ylabel('loss')\n",
    "ax[1].set_title('Epochs & loss', fontsize = 17)\n",
    "ax[1].legend(loc='best')\n",
    "sns.set_style(\"darkgrid\")"
   ]
  },
  {
   "cell_type": "code",
   "execution_count": 9,
   "id": "5a0064cc",
   "metadata": {
    "execution": {
     "iopub.execute_input": "2022-07-25T07:33:36.552039Z",
     "iopub.status.busy": "2022-07-25T07:33:36.551366Z",
     "iopub.status.idle": "2022-07-25T07:33:42.138812Z",
     "shell.execute_reply": "2022-07-25T07:33:42.137962Z"
    },
    "papermill": {
     "duration": 5.818693,
     "end_time": "2022-07-25T07:33:42.141034",
     "exception": false,
     "start_time": "2022-07-25T07:33:36.322341",
     "status": "completed"
    },
    "tags": []
   },
   "outputs": [
    {
     "name": "stdout",
     "output_type": "stream",
     "text": [
      "94/94 [==============================] - 6s 54ms/step - loss: 0.4941 - accuracy: 0.8230\n"
     ]
    },
    {
     "data": {
      "text/plain": [
       "[0.4941185712814331, 0.8230000138282776]"
      ]
     },
     "execution_count": 9,
     "metadata": {},
     "output_type": "execute_result"
    }
   ],
   "source": [
    "# load best model\n",
    "model.load_weights('weights.hdf5')\n",
    "model.evaluate(test_data)"
   ]
  },
  {
   "cell_type": "code",
   "execution_count": null,
   "id": "426148d0",
   "metadata": {
    "execution": {
     "iopub.execute_input": "2022-07-25T07:11:47.523609Z",
     "iopub.status.busy": "2022-07-25T07:11:47.522647Z",
     "iopub.status.idle": "2022-07-25T07:11:52.141058Z",
     "shell.execute_reply": "2022-07-25T07:11:52.139793Z",
     "shell.execute_reply.started": "2022-07-25T07:11:47.523501Z"
    },
    "papermill": {
     "duration": 0.231993,
     "end_time": "2022-07-25T07:33:42.607934",
     "exception": false,
     "start_time": "2022-07-25T07:33:42.375941",
     "status": "completed"
    },
    "tags": []
   },
   "outputs": [],
   "source": []
  },
  {
   "cell_type": "code",
   "execution_count": null,
   "id": "c7c525c2",
   "metadata": {
    "execution": {
     "iopub.execute_input": "2022-07-25T07:17:09.224347Z",
     "iopub.status.busy": "2022-07-25T07:17:09.223943Z",
     "iopub.status.idle": "2022-07-25T07:17:09.228971Z",
     "shell.execute_reply": "2022-07-25T07:17:09.227911Z",
     "shell.execute_reply.started": "2022-07-25T07:17:09.224314Z"
    },
    "papermill": {
     "duration": 0.258576,
     "end_time": "2022-07-25T07:33:43.098737",
     "exception": false,
     "start_time": "2022-07-25T07:33:42.840161",
     "status": "completed"
    },
    "tags": []
   },
   "outputs": [],
   "source": []
  },
  {
   "cell_type": "code",
   "execution_count": null,
   "id": "1db2b857",
   "metadata": {
    "execution": {
     "iopub.execute_input": "2022-07-25T07:17:44.436815Z",
     "iopub.status.busy": "2022-07-25T07:17:44.436376Z",
     "iopub.status.idle": "2022-07-25T07:17:49.990427Z",
     "shell.execute_reply": "2022-07-25T07:17:49.988751Z",
     "shell.execute_reply.started": "2022-07-25T07:17:44.436779Z"
    },
    "papermill": {
     "duration": 0.253434,
     "end_time": "2022-07-25T07:33:43.657981",
     "exception": false,
     "start_time": "2022-07-25T07:33:43.404547",
     "status": "completed"
    },
    "tags": []
   },
   "outputs": [],
   "source": []
  },
  {
   "cell_type": "code",
   "execution_count": null,
   "id": "167ea5c4",
   "metadata": {
    "papermill": {
     "duration": 0.245724,
     "end_time": "2022-07-25T07:33:44.148852",
     "exception": false,
     "start_time": "2022-07-25T07:33:43.903128",
     "status": "completed"
    },
    "tags": []
   },
   "outputs": [],
   "source": []
  }
 ],
 "metadata": {
  "kernelspec": {
   "display_name": "Python 3",
   "language": "python",
   "name": "python3"
  },
  "language_info": {
   "codemirror_mode": {
    "name": "ipython",
    "version": 3
   },
   "file_extension": ".py",
   "mimetype": "text/x-python",
   "name": "python",
   "nbconvert_exporter": "python",
   "pygments_lexer": "ipython3",
   "version": "3.7.12"
  },
  "papermill": {
   "default_parameters": {},
   "duration": 709.307379,
   "end_time": "2022-07-25T07:33:47.090072",
   "environment_variables": {},
   "exception": null,
   "input_path": "__notebook__.ipynb",
   "output_path": "__notebook__.ipynb",
   "parameters": {},
   "start_time": "2022-07-25T07:21:57.782693",
   "version": "2.3.4"
  }
 },
 "nbformat": 4,
 "nbformat_minor": 5
}
